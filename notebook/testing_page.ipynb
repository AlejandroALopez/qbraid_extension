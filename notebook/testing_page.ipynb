{
 "cells": [
  {
   "cell_type": "markdown",
   "metadata": {},
   "source": [
    "<h1 style=\"color:MediumSeaGreen;\">Welcome to the testing page!</h1>"
   ]
  },
  {
   "cell_type": "markdown",
   "metadata": {},
   "source": [
    "<h1 style=\"color:MediumSeaGreen;\">Objectives</h1>\n",
    "\n",
    "- Test the properties of the extension\n",
    "- See which files can I append to it\n",
    "- Change themes of Jupyter Lab according to the issues in ZenHub\n"
   ]
  },
  {
   "cell_type": "code",
   "execution_count": 21,
   "metadata": {},
   "outputs": [],
   "source": [
    "# some handy functions to use along widgets\n",
    "from IPython.display import display, Markdown, clear_output\n",
    "# widget packages\n",
    "import ipywidgets as widgets"
   ]
  },
  {
   "cell_type": "markdown",
   "metadata": {},
   "source": [
    "<h1 style=\"color:Orange;\">Copied part of notebook:</h1>"
   ]
  },
  {
   "cell_type": "markdown",
   "metadata": {},
   "source": [
    "<h1 style=\"color:MediumSeaGreen;\">Classical physics</h1>\n",
    "\n",
    "Physics aims to understand how nature works. All of the successful physical theories that we have been developed before the 1920s, are now grouped under an umbrella called \"classical physics\". Classical physics has two main components: classical (Newtonian) mechanics and electromagnetism. At the heart of classical mechanics is the concept of a *particle*, which has some properties, e.g. it has a mass, it obeys Newton's laws, etc. On the other hand, at the heart of electromagnetism is the concept of a *wave*, which possesses certain properties like an amplitude and a frequency. Together, classical mechanics and electromagnetism explain most of the phenomena that we regularly observe. For example, the movements and collisions of billiard balls are well explained by classical mechanics; heat and temperature can be explained in terms of the motion of atoms: the faster atoms move, the higher their temperature. On the other hand, *light*, which allows us to see and without which there would be no life on earth, is nothing but an electromagnetic wave.\n",
    "\n",
    "So, what led to the development of quantum mechanics? \n",
    "\n",
    "It turns out that, towards the end of the nineteenth century, some experimental physicists produced observations which *could not* be explained by classical physics! At the dawn of the twentieth century, the number of such experiments kept increasing. It was clear that a new theory was needed to make sense of these experiments.<br/>\n",
    "\n",
    "We will not describe all of these experiments, but just one of them, which captures the main novel features of the quantum world. The experiment is commonly known as the \"double-slit experiment\". Before we dive into it, let's summarize two important concepts from classical physics:\n",
    "\n",
    "1. <font color='b64c35' size=3.5>Particle</font>\n",
    "    - A particle is a localized object which has a definite mass. Other properties include, volume, density, etc. \n",
    "    - The state of a particle is described by its position and momentum. Given position and momentum, Newton's laws describe the motion of the particle.\n",
    "2. <font color='b64c35' size=3.5>Wave</font>\n",
    "    - A wave is a non-local phenomenon, often seen as a 'disturbance' in a field. \n",
    "    - A wave is characterized by its amplitude, frequency, etc.\n",
    "    - A wave can be physically caused by the motion of particles, but it is the *collective* motion of all the particles that gives rise to a wave, not the individual motion of a particle. See for example the following picture. \n",
    "\n",
    "<img src=\"images/animation.gif\" height=\"350\" width=\"400\" />\n",
    "\n",
    "Try focusing your eyes on a single particle (it might help to choose a particle that is close a vertical line). Can you see that the particle is just moving up and down vertically, but is *not* moving *at all* horizontally? \n",
    "    \n",
    "\n"
   ]
  },
  {
   "cell_type": "markdown",
   "metadata": {},
   "source": [
    "<h1 style=\"color:MediumSeaGreen;\">Single qubit states</h1>\n",
    "\n",
    "Just like classical bits, quantum bits or qubits can be in one of the two states 0 and 1.\n",
    "\n",
    "What differentiates a qubit from a bit is that a qubit is a *quantum system*, and the state of qubit is a *quantum state*: not only can the state of a qubit be 0 or 1, but it can be in a *superposition* of the 0 state and the 1 state. The states 0 and 1, in the case of qubits, are represented by:\n",
    "- $\\left|0\\right\\rangle$ (pronounced \"ket 0\") and\n",
    "-  $\\left|1\\right\\rangle$ (\"ket 1\"). <br/>\n",
    "\n",
    "This funky looking notation, $\\left|0\\right\\rangle$ and $\\left|1\\right\\rangle$, is called Dirac notation and is the standard notation to represent quantum state in quantum mechanics.\n",
    "    \n",
    "The most general state of a qubit is represented as:\n",
    "\n",
    "$$\\begin{align}\\left| \\psi \\right\\rangle=\\alpha \\left| 0 \\right\\rangle+\\beta \\left| 1 \\right\\rangle \\end{align} \\label{general_state}\\tag{1}$$\n",
    "\n",
    "where $\\alpha$ and $\\beta$ are complex numbers. This is a more precise way to describe superposition than \"both 0 and 1 at the same time,\" which is often used to describe this concept. This state, as a superposition of $\\left|0\\right\\rangle$ and $\\left|1\\right\\rangle$, is the combination of exactly \"$\\alpha$ amount of $\\left|0\\right\\rangle$\" and \"$\\beta$ amount of $\\left|1\\right\\rangle$.\" We will interpret this very soon.\n",
    "\n",
    "<font size=3 color=b64c35> *The following section will make a lot of use of the Linear Algebra concepts from Module 3: Background Math. It might be helpful to keep that subsection open as a reference!*</font>\n",
    "\n",
    "From above, we learn that the state of a qubit could be described by two complex numbers. What is interesting is that you can make a vector out of these two complex numbers. So, mathematically, the state of a qubit $\\left|\\psi \\right \\rangle$ is a 2-dimensional vector with complex entries, and we can represent it as:\n",
    "\n",
    "$$\\left|\\psi\\right\\rangle = \\begin{bmatrix}\n",
    "\\alpha\\\\\n",
    "\\beta\\\\\n",
    "\\end{bmatrix} $$\n",
    "\n",
    "Notice that, in vector notation, \n",
    "- $\\left | 0 \\right> = 1 \\cdot \\left | 0 \\right> + 0 \\cdot \\left | 1 \\right> = \\begin{bmatrix}\n",
    "1\\\\\n",
    "0\n",
    "\\end{bmatrix}$, and\n",
    "- $\\left | 0 \\right> = 0 \\cdot \\left | 0 \\right> + 1 \\cdot \\left | 1 \\right> = \\begin{bmatrix}\n",
    "0\\\\\n",
    "1\n",
    "\\end{bmatrix}$.\n",
    "\n",
    "In other words, the quantum states $\\left | 0 \\right>$ and $\\left | 1 \\right>$ coincide with the unit vectors $\\begin{bmatrix}\n",
    "1\\\\\n",
    "0\n",
    "\\end{bmatrix}$ and $\\begin{bmatrix}\n",
    "0\\\\\n",
    "1\n",
    "\\end{bmatrix}$ respectively, and any quantum state can be written as a *linear combination* of these two.\n",
    " \n",
    "The two complex values, $\\alpha$ and $\\beta$, uniquely define where a particular qubit state sits between $\\left|0\\right\\rangle$ and $\\left|1\\right\\rangle$. The only additional requirement that $\\alpha$ and $\\beta$ must satisfy, in order for them to define a valid qubit state, is the equality $|\\alpha|^2 + |\\beta|^2 = 1$, i.e. the quantum state vector has norm $1$ (we will tell you more about this shortly). We refer to $\\alpha$ and $\\beta$ as *amplitudes*. \n",
    "\n",
    "Now, that you understand how to define the state of the qubit, let's try to represent the state in python.\n",
    "\n",
    "A qubit is a $2$-dimensional quantum system, but in general, a quantum system can be $n$-dimensional for any positive integer $n$. However, for the purpose of computational tasks, it is convenient to use qubits as building blocks just like we use bits for classical computing. It would of course be possible to rewrite classical computing in terms of, say, *ternary* strings (i.e. strings of $0,1,2$'s), as opposed to binary strings, but by convention (and for convenience) classical programs manipulate strings of bits. Likewise, in the case of quantum computing, quantum circuits (which we will discuss in the next module) manipulate sets of qubits."
   ]
  },
  {
   "cell_type": "markdown",
   "metadata": {},
   "source": [
    "<h1 style=\"color:Orange;\">For the following code, I had to install the numpy module:</h1>"
   ]
  },
  {
   "cell_type": "code",
   "execution_count": 6,
   "metadata": {},
   "outputs": [
    {
     "name": "stdout",
     "output_type": "stream",
     "text": [
      "[0.70710678 0.70710678]\n"
     ]
    }
   ],
   "source": [
    "# import math and numpy\n",
    "import math, numpy\n",
    "# Let's define the amplitude for the quantum state.\n",
    "a = 1/math.sqrt(2)\n",
    "b = 1/math.sqrt(2)\n",
    "# Now the quantum state can be defined as:\n",
    "psi = numpy.array([a,b])\n",
    "print(psi)"
   ]
  },
  {
   "cell_type": "markdown",
   "metadata": {},
   "source": [
    "<h1 style=\"color:Orange;\">The following are implementations of widgets that could prove useful:</h1>"
   ]
  },
  {
   "cell_type": "code",
   "execution_count": 16,
   "metadata": {},
   "outputs": [],
   "source": [
    "def runCode():\n",
    "    print(5)"
   ]
  },
  {
   "cell_type": "code",
   "execution_count": 34,
   "metadata": {},
   "outputs": [
    {
     "data": {
      "application/vnd.jupyter.widget-view+json": {
       "model_id": "8fab0a6ada92445787a937b320b228d6",
       "version_major": 2,
       "version_minor": 0
      },
      "text/plain": [
       "Button(description='Click Me!', style=ButtonStyle())"
      ]
     },
     "metadata": {},
     "output_type": "display_data"
    },
    {
     "data": {
      "application/vnd.jupyter.widget-view+json": {
       "model_id": "d9340cd5330641219ad1ea3041a68752",
       "version_major": 2,
       "version_minor": 0
      },
      "text/plain": [
       "Output()"
      ]
     },
     "metadata": {},
     "output_type": "display_data"
    }
   ],
   "source": [
    "button = widgets.Button(description=\"Click Me!\")\n",
    "output = widgets.Output()\n",
    "\n",
    "display(button, output)\n",
    "\n",
    "def on_button_clicked(b):\n",
    "    with output:\n",
    "        return runCode()\n",
    "\n",
    "button.on_click(on_button_clicked)"
   ]
  },
  {
   "cell_type": "code",
   "execution_count": 25,
   "metadata": {},
   "outputs": [
    {
     "data": {
      "application/vnd.jupyter.widget-view+json": {
       "model_id": "91a8811b6bce4fd08c4379fd1abed74c",
       "version_major": 2,
       "version_minor": 0
      },
      "text/plain": [
       "IntSlider(value=0)"
      ]
     },
     "metadata": {},
     "output_type": "display_data"
    }
   ],
   "source": [
    "widgets.IntSlider()"
   ]
  },
  {
   "cell_type": "code",
   "execution_count": 28,
   "metadata": {},
   "outputs": [
    {
     "data": {
      "application/vnd.jupyter.widget-view+json": {
       "model_id": "119448f8742340a28bafcc80aef56db8",
       "version_major": 2,
       "version_minor": 0
      },
      "text/plain": [
       "FloatSlider(value=7.5, continuous_update=False, description='Test:', max=10.0, orientation='vertical', readout…"
      ]
     },
     "metadata": {},
     "output_type": "display_data"
    }
   ],
   "source": [
    "widgets.FloatSlider(\n",
    "    value=7.5,\n",
    "    min=0,\n",
    "    max=10.0,\n",
    "    step=0.1,\n",
    "    description='Test:',\n",
    "    disabled=False,\n",
    "    continuous_update=False,\n",
    "    orientation='vertical',\n",
    "    readout=True,\n",
    "    readout_format='.1f',\n",
    ")"
   ]
  },
  {
   "cell_type": "code",
   "execution_count": 29,
   "metadata": {},
   "outputs": [
    {
     "data": {
      "application/vnd.jupyter.widget-view+json": {
       "model_id": "a7b6ae7f62e74d46ad378d752e6b9712",
       "version_major": 2,
       "version_minor": 0
      },
      "text/plain": [
       "Checkbox(value=False, description='Check me')"
      ]
     },
     "metadata": {},
     "output_type": "display_data"
    }
   ],
   "source": [
    "widgets.Checkbox(\n",
    "    value=False,\n",
    "    description='Check me',\n",
    "    disabled=False\n",
    ")"
   ]
  },
  {
   "cell_type": "code",
   "execution_count": 30,
   "metadata": {},
   "outputs": [
    {
     "data": {
      "application/vnd.jupyter.widget-view+json": {
       "model_id": "9ecb1b70418a421192632cb6c73a31d9",
       "version_major": 2,
       "version_minor": 0
      },
      "text/plain": [
       "Dropdown(description='Number:', index=1, options=('1', '2', '3'), value='2')"
      ]
     },
     "metadata": {},
     "output_type": "display_data"
    }
   ],
   "source": [
    "widgets.Dropdown(\n",
    "    options=['1', '2', '3'],\n",
    "    value='2',\n",
    "    description='Number:',\n",
    "    disabled=False,\n",
    ")"
   ]
  },
  {
   "cell_type": "code",
   "execution_count": 31,
   "metadata": {},
   "outputs": [
    {
     "data": {
      "application/vnd.jupyter.widget-view+json": {
       "model_id": "285f2ff3bc714b3bbb503c74896b9360",
       "version_major": 2,
       "version_minor": 0
      },
      "text/plain": [
       "ColorPicker(value='blue', description='Pick a color')"
      ]
     },
     "metadata": {},
     "output_type": "display_data"
    }
   ],
   "source": [
    "\n",
    "widgets.ColorPicker(\n",
    "    concise=False,\n",
    "    description='Pick a color',\n",
    "    value='blue',\n",
    "    disabled=False\n",
    ")"
   ]
  },
  {
   "cell_type": "code",
   "execution_count": 32,
   "metadata": {},
   "outputs": [
    {
     "data": {
      "application/vnd.jupyter.widget-view+json": {
       "model_id": "eea1e58a76d948b6b96c341fb5a701b1",
       "version_major": 2,
       "version_minor": 0
      },
      "text/plain": [
       "Accordion(children=(IntSlider(value=0), Text(value='')), _titles={'0': 'Slider', '1': 'Text'})"
      ]
     },
     "metadata": {},
     "output_type": "display_data"
    }
   ],
   "source": [
    "accordion = widgets.Accordion(children=[widgets.IntSlider(), widgets.Text()])\n",
    "accordion.set_title(0, 'Slider')\n",
    "accordion.set_title(1, 'Text')\n",
    "accordion"
   ]
  },
  {
   "cell_type": "code",
   "execution_count": 33,
   "metadata": {},
   "outputs": [
    {
     "data": {
      "application/vnd.jupyter.widget-view+json": {
       "model_id": "2459c473fd9b4027ae8923814e53fed9",
       "version_major": 2,
       "version_minor": 0
      },
      "text/plain": [
       "HBox(children=(Play(value=50, description='Press play'), IntSlider(value=0)))"
      ]
     },
     "metadata": {},
     "output_type": "display_data"
    }
   ],
   "source": [
    "play = widgets.Play(\n",
    "#     interval=10,\n",
    "    value=50,\n",
    "    min=0,\n",
    "    max=100,\n",
    "    step=1,\n",
    "    description=\"Press play\",\n",
    "    disabled=False\n",
    ")\n",
    "slider = widgets.IntSlider()\n",
    "widgets.jslink((play, 'value'), (slider, 'value'))\n",
    "widgets.HBox([play, slider])"
   ]
  },
  {
   "cell_type": "code",
   "execution_count": null,
   "metadata": {},
   "outputs": [],
   "source": []
  }
 ],
 "metadata": {
  "kernelspec": {
   "display_name": "Python 3",
   "language": "python",
   "name": "python3"
  },
  "language_info": {
   "codemirror_mode": {
    "name": "ipython",
    "version": 3
   },
   "file_extension": ".py",
   "mimetype": "text/x-python",
   "name": "python",
   "nbconvert_exporter": "python",
   "pygments_lexer": "ipython3",
   "version": "3.8.1"
  }
 },
 "nbformat": 4,
 "nbformat_minor": 4
}
