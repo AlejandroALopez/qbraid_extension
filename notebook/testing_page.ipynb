{
 "cells": [
  {
   "cell_type": "markdown",
   "metadata": {},
   "source": [
    "<h1 style=\"color:MediumSeaGreen;\">Welcome to the testing page!</h1>"
   ]
  },
  {
   "cell_type": "markdown",
   "metadata": {},
   "source": [
    "<h1 style=\"color:MediumSeaGreen;\">Objectives</h1>\n",
    "\n",
    "- Test the properties of the extension\n",
    "- See which files can I append to it\n",
    "- Change themes of Jupyter Lab according to the issues in ZenHub\n"
   ]
  },
  {
   "cell_type": "code",
   "execution_count": 1,
   "metadata": {},
   "outputs": [],
   "source": [
    "# some handy functions to use along widgets\n",
    "from IPython.display import display, Markdown, clear_output\n",
    "# widget packages\n",
    "import ipywidgets as widgets\n",
    "from ipywidgets import Layout"
   ]
  },
  {
   "cell_type": "markdown",
   "metadata": {},
   "source": [
    "<h1 style=\"color:Orange;\">Copied part of notebook:</h1>"
   ]
  },
  {
   "cell_type": "markdown",
   "metadata": {},
   "source": [
    "<h1 style=\"color:MediumSeaGreen;\">Classical physics</h1>\n",
    "\n",
    "Physics aims to understand how nature works. All of the successful physical theories that we have been developed before the 1920s, are now grouped under an umbrella called \"classical physics\". Classical physics has two main components: classical (Newtonian) mechanics and electromagnetism. At the heart of classical mechanics is the concept of a *particle*, which has some properties, e.g. it has a mass, it obeys Newton's laws, etc. On the other hand, at the heart of electromagnetism is the concept of a *wave*, which possesses certain properties like an amplitude and a frequency. Together, classical mechanics and electromagnetism explain most of the phenomena that we regularly observe. For example, the movements and collisions of billiard balls are well explained by classical mechanics; heat and temperature can be explained in terms of the motion of atoms: the faster atoms move, the higher their temperature. On the other hand, *light*, which allows us to see and without which there would be no life on earth, is nothing but an electromagnetic wave.\n",
    "\n",
    "So, what led to the development of quantum mechanics? \n",
    "\n",
    "It turns out that, towards the end of the nineteenth century, some experimental physicists produced observations which *could not* be explained by classical physics! At the dawn of the twentieth century, the number of such experiments kept increasing. It was clear that a new theory was needed to make sense of these experiments.<br/>\n",
    "\n",
    "We will not describe all of these experiments, but just one of them, which captures the main novel features of the quantum world. The experiment is commonly known as the \"double-slit experiment\". Before we dive into it, let's summarize two important concepts from classical physics:\n",
    "\n",
    "1. <font color='b64c35' size=3.5>Particle</font>\n",
    "    - A particle is a localized object which has a definite mass. Other properties include, volume, density, etc. \n",
    "    - The state of a particle is described by its position and momentum. Given position and momentum, Newton's laws describe the motion of the particle.\n",
    "2. <font color='b64c35' size=3.5>Wave</font>\n",
    "    - A wave is a non-local phenomenon, often seen as a 'disturbance' in a field. \n",
    "    - A wave is characterized by its amplitude, frequency, etc.\n",
    "    - A wave can be physically caused by the motion of particles, but it is the *collective* motion of all the particles that gives rise to a wave, not the individual motion of a particle. See for example the following picture. \n",
    "\n",
    "<img src=\"images/animation.gif\" height=\"350\" width=\"400\" />\n",
    "\n",
    "Try focusing your eyes on a single particle (it might help to choose a particle that is close a vertical line). Can you see that the particle is just moving up and down vertically, but is *not* moving *at all* horizontally? \n",
    "    \n",
    "\n"
   ]
  },
  {
   "cell_type": "markdown",
   "metadata": {},
   "source": [
    "<h1 style=\"color:MediumSeaGreen;\">Single qubit states</h1>\n",
    "\n",
    "Just like classical bits, quantum bits or qubits can be in one of the two states 0 and 1.\n",
    "\n",
    "What differentiates a qubit from a bit is that a qubit is a *quantum system*, and the state of qubit is a *quantum state*: not only can the state of a qubit be 0 or 1, but it can be in a *superposition* of the 0 state and the 1 state. The states 0 and 1, in the case of qubits, are represented by:\n",
    "- $\\left|0\\right\\rangle$ (pronounced \"ket 0\") and\n",
    "-  $\\left|1\\right\\rangle$ (\"ket 1\"). <br/>\n",
    "\n",
    "This funky looking notation, $\\left|0\\right\\rangle$ and $\\left|1\\right\\rangle$, is called Dirac notation and is the standard notation to represent quantum state in quantum mechanics.\n",
    "    \n",
    "The most general state of a qubit is represented as:\n",
    "\n",
    "$$\\begin{align}\\left| \\psi \\right\\rangle=\\alpha \\left| 0 \\right\\rangle+\\beta \\left| 1 \\right\\rangle \\end{align} \\label{general_state}\\tag{1}$$\n",
    "\n",
    "where $\\alpha$ and $\\beta$ are complex numbers. This is a more precise way to describe superposition than \"both 0 and 1 at the same time,\" which is often used to describe this concept. This state, as a superposition of $\\left|0\\right\\rangle$ and $\\left|1\\right\\rangle$, is the combination of exactly \"$\\alpha$ amount of $\\left|0\\right\\rangle$\" and \"$\\beta$ amount of $\\left|1\\right\\rangle$.\" We will interpret this very soon.\n",
    "\n",
    "<font size=3 color=b64c35> *The following section will make a lot of use of the Linear Algebra concepts from Module 3: Background Math. It might be helpful to keep that subsection open as a reference!*</font>\n",
    "\n",
    "From above, we learn that the state of a qubit could be described by two complex numbers. What is interesting is that you can make a vector out of these two complex numbers. So, mathematically, the state of a qubit $\\left|\\psi \\right \\rangle$ is a 2-dimensional vector with complex entries, and we can represent it as:\n",
    "\n",
    "$$\\left|\\psi\\right\\rangle = \\begin{bmatrix}\n",
    "\\alpha\\\\\n",
    "\\beta\\\\\n",
    "\\end{bmatrix} $$\n",
    "\n",
    "Notice that, in vector notation, \n",
    "- $\\left | 0 \\right> = 1 \\cdot \\left | 0 \\right> + 0 \\cdot \\left | 1 \\right> = \\begin{bmatrix}\n",
    "1\\\\\n",
    "0\n",
    "\\end{bmatrix}$, and\n",
    "- $\\left | 0 \\right> = 0 \\cdot \\left | 0 \\right> + 1 \\cdot \\left | 1 \\right> = \\begin{bmatrix}\n",
    "0\\\\\n",
    "1\n",
    "\\end{bmatrix}$.\n",
    "\n",
    "In other words, the quantum states $\\left | 0 \\right>$ and $\\left | 1 \\right>$ coincide with the unit vectors $\\begin{bmatrix}\n",
    "1\\\\\n",
    "0\n",
    "\\end{bmatrix}$ and $\\begin{bmatrix}\n",
    "0\\\\\n",
    "1\n",
    "\\end{bmatrix}$ respectively, and any quantum state can be written as a *linear combination* of these two.\n",
    " \n",
    "The two complex values, $\\alpha$ and $\\beta$, uniquely define where a particular qubit state sits between $\\left|0\\right\\rangle$ and $\\left|1\\right\\rangle$. The only additional requirement that $\\alpha$ and $\\beta$ must satisfy, in order for them to define a valid qubit state, is the equality $|\\alpha|^2 + |\\beta|^2 = 1$, i.e. the quantum state vector has norm $1$ (we will tell you more about this shortly). We refer to $\\alpha$ and $\\beta$ as *amplitudes*. \n",
    "\n",
    "Now, that you understand how to define the state of the qubit, let's try to represent the state in python.\n",
    "\n",
    "A qubit is a $2$-dimensional quantum system, but in general, a quantum system can be $n$-dimensional for any positive integer $n$. However, for the purpose of computational tasks, it is convenient to use qubits as building blocks just like we use bits for classical computing. It would of course be possible to rewrite classical computing in terms of, say, *ternary* strings (i.e. strings of $0,1,2$'s), as opposed to binary strings, but by convention (and for convenience) classical programs manipulate strings of bits. Likewise, in the case of quantum computing, quantum circuits (which we will discuss in the next module) manipulate sets of qubits."
   ]
  },
  {
   "cell_type": "markdown",
   "metadata": {},
   "source": [
    "<h1 style=\"color:Orange;\">For the following code, I had to install the numpy module:</h1>"
   ]
  },
  {
   "cell_type": "code",
   "execution_count": 2,
   "metadata": {},
   "outputs": [
    {
     "name": "stdout",
     "output_type": "stream",
     "text": [
      "[0.70710678 0.70710678]\n"
     ]
    }
   ],
   "source": [
    "# import math and numpy\n",
    "import math, numpy\n",
    "# Let's define the amplitude for the quantum state.\n",
    "a = 1/math.sqrt(2)\n",
    "b = 1/math.sqrt(2)\n",
    "# Now the quantum state can be defined as:\n",
    "psi = numpy.array([a,b])\n",
    "print(psi)"
   ]
  },
  {
   "cell_type": "markdown",
   "metadata": {},
   "source": [
    "<h1 style=\"color:Orange;\">The following are implementations of widgets that could prove useful:</h1>"
   ]
  },
  {
   "cell_type": "code",
   "execution_count": 3,
   "metadata": {},
   "outputs": [],
   "source": [
    "def runCode():\n",
    "    print(psi)"
   ]
  },
  {
   "cell_type": "code",
   "execution_count": 114,
   "metadata": {},
   "outputs": [
    {
     "data": {
      "application/vnd.jupyter.widget-view+json": {
       "model_id": "b8e8a4353ddb4863b29fec1d3f23c16e",
       "version_major": 2,
       "version_minor": 0
      },
      "text/plain": [
       "Button(description='Click Me!', style=ButtonStyle(), tooltip='This for print')"
      ]
     },
     "metadata": {},
     "output_type": "display_data"
    },
    {
     "name": "stdout",
     "output_type": "stream",
     "text": [
      "This for print\n"
     ]
    }
   ],
   "source": [
    "button = widgets.Button(description=\"Click Me!\", tooltip=\"This for print\")\n",
    "\n",
    "display(button)\n",
    "\n",
    "def on_button_clicked():\n",
    "    return button.tooltip\n",
    "\n",
    "button.on_click(on_button_clicked)"
   ]
  },
  {
   "cell_type": "markdown",
   "metadata": {},
   "source": [
    "<h1 style=\"color:Orange;\">Sliders:</h1>"
   ]
  },
  {
   "cell_type": "code",
   "execution_count": 116,
   "metadata": {},
   "outputs": [
    {
     "data": {
      "application/vnd.jupyter.widget-view+json": {
       "model_id": "016d6187ba79413d90a4a6eed488c796",
       "version_major": 2,
       "version_minor": 0
      },
      "text/plain": [
       "IntSlider(value=0)"
      ]
     },
     "metadata": {},
     "output_type": "display_data"
    }
   ],
   "source": [
    "slider = widgets.IntSlider()\n",
    "slider"
   ]
  },
  {
   "cell_type": "code",
   "execution_count": 118,
   "metadata": {},
   "outputs": [
    {
     "name": "stdout",
     "output_type": "stream",
     "text": [
      "42\n"
     ]
    }
   ],
   "source": [
    "print(slider.value)"
   ]
  },
  {
   "cell_type": "code",
   "execution_count": 6,
   "metadata": {},
   "outputs": [
    {
     "data": {
      "application/vnd.jupyter.widget-view+json": {
       "model_id": "d66e693fbb3343dba31eb9c7323bf77a",
       "version_major": 2,
       "version_minor": 0
      },
      "text/plain": [
       "FloatSlider(value=7.5, continuous_update=False, description='Test:', max=10.0, orientation='vertical', readout…"
      ]
     },
     "metadata": {},
     "output_type": "display_data"
    }
   ],
   "source": [
    "widgets.FloatSlider(\n",
    "    value=7.5,\n",
    "    min=0,\n",
    "    max=10.0,\n",
    "    step=0.1,\n",
    "    description='Test:',\n",
    "    disabled=False,\n",
    "    continuous_update=False,\n",
    "    orientation='vertical',\n",
    "    readout=True,\n",
    "    readout_format='.1f',\n",
    ")"
   ]
  },
  {
   "cell_type": "markdown",
   "metadata": {},
   "source": [
    "<h1 style=\"color:Green;\">Box checker:</h1>"
   ]
  },
  {
   "cell_type": "code",
   "execution_count": 60,
   "metadata": {},
   "outputs": [
    {
     "data": {
      "application/vnd.jupyter.widget-view+json": {
       "model_id": "54e00d1d4e854d87a818d8535d4f7fb7",
       "version_major": 2,
       "version_minor": 0
      },
      "text/plain": [
       "Checkbox(value=False, description='Check me')"
      ]
     },
     "metadata": {},
     "output_type": "display_data"
    }
   ],
   "source": [
    "widgets.Checkbox(\n",
    "    value=False,\n",
    "    description='Check me',\n",
    "    disabled=False\n",
    ")\n"
   ]
  },
  {
   "cell_type": "markdown",
   "metadata": {},
   "source": [
    "<h1 style=\"color:Green;\">More powerful: Radio Buttons!</h1>"
   ]
  },
  {
   "cell_type": "code",
   "execution_count": 94,
   "metadata": {},
   "outputs": [
    {
     "data": {
      "application/vnd.jupyter.widget-view+json": {
       "model_id": "94844817083d4a1ba5f553881961d121",
       "version_major": 2,
       "version_minor": 0
      },
      "text/plain": [
       "RadioButtons(description='Course: ', options=('Qubes', 'Quint', 'QuPro'), value='Qubes')"
      ]
     },
     "metadata": {},
     "output_type": "display_data"
    }
   ],
   "source": [
    "rb = widgets.RadioButtons(\n",
    "    options=['Qubes', 'Quint', 'QuPro'],\n",
    "    value='Qubes',\n",
    "    description='Course: ',\n",
    "    disabled=False\n",
    ")\n",
    "\n",
    "rb"
   ]
  },
  {
   "cell_type": "code",
   "execution_count": 97,
   "metadata": {},
   "outputs": [
    {
     "name": "stdout",
     "output_type": "stream",
     "text": [
      "Current course: Qubes\n"
     ]
    }
   ],
   "source": [
    "print(\"Current course: \" + rb.value)"
   ]
  },
  {
   "cell_type": "markdown",
   "metadata": {},
   "source": [
    "<h1 style=\"color:Green;\">Dropdown with next cell detecting value and disabling the previous cell:</h1>"
   ]
  },
  {
   "cell_type": "code",
   "execution_count": 57,
   "metadata": {},
   "outputs": [
    {
     "data": {
      "application/vnd.jupyter.widget-view+json": {
       "model_id": "509b5b1df0fa487fb8575f299f28a397",
       "version_major": 2,
       "version_minor": 0
      },
      "text/plain": [
       "Dropdown(description='Course:', options=('', 'Qubes', 'QuInt', 'QuPro'), value='')"
      ]
     },
     "metadata": {},
     "output_type": "display_data"
    }
   ],
   "source": [
    "a = widgets.Dropdown(\n",
    "    options=[\"\", \"Qubes\", \"QuInt\", \"QuPro\"],\n",
    "    value=\"\",\n",
    "    description='Course:',\n",
    "    disabled=False,\n",
    ")\n",
    "\n",
    "a\n"
   ]
  },
  {
   "cell_type": "code",
   "execution_count": 58,
   "metadata": {},
   "outputs": [
    {
     "name": "stdout",
     "output_type": "stream",
     "text": [
      "QuPro\n"
     ]
    }
   ],
   "source": [
    "a.disabled = True;\n",
    "print(a.value)"
   ]
  },
  {
   "cell_type": "markdown",
   "metadata": {},
   "source": [
    "<h1 style=\"color:Yellow;\">Color picker:</h1>"
   ]
  },
  {
   "cell_type": "code",
   "execution_count": 59,
   "metadata": {},
   "outputs": [
    {
     "data": {
      "application/vnd.jupyter.widget-view+json": {
       "model_id": "29614dabbe8c447f86f1245de215f771",
       "version_major": 2,
       "version_minor": 0
      },
      "text/plain": [
       "ColorPicker(value='blue', description='Pick a color')"
      ]
     },
     "metadata": {},
     "output_type": "display_data"
    }
   ],
   "source": [
    "\n",
    "widgets.ColorPicker(\n",
    "    concise=False,\n",
    "    description='Pick a color',\n",
    "    value='blue',\n",
    "    disabled=False\n",
    ")"
   ]
  },
  {
   "cell_type": "markdown",
   "metadata": {},
   "source": [
    "<h1 style=\"color:Yellow;\">Accordion: </h1>"
   ]
  },
  {
   "cell_type": "code",
   "execution_count": 10,
   "metadata": {},
   "outputs": [
    {
     "data": {
      "application/vnd.jupyter.widget-view+json": {
       "model_id": "078443ec022d4c95a460afa4a7e7792a",
       "version_major": 2,
       "version_minor": 0
      },
      "text/plain": [
       "Accordion(children=(IntSlider(value=0), Text(value='')), _titles={'0': 'Slider', '1': 'Text'})"
      ]
     },
     "metadata": {},
     "output_type": "display_data"
    }
   ],
   "source": [
    "accordion = widgets.Accordion(children=[widgets.IntSlider(), widgets.Text()])\n",
    "accordion.set_title(0, 'Slider')\n",
    "accordion.set_title(1, 'Text')\n",
    "accordion"
   ]
  },
  {
   "cell_type": "code",
   "execution_count": 11,
   "metadata": {},
   "outputs": [
    {
     "data": {
      "application/vnd.jupyter.widget-view+json": {
       "model_id": "2ab09c381db84637b9155aad6d892269",
       "version_major": 2,
       "version_minor": 0
      },
      "text/plain": [
       "HBox(children=(Play(value=50, description='Press play'), IntSlider(value=0)))"
      ]
     },
     "metadata": {},
     "output_type": "display_data"
    }
   ],
   "source": [
    "play = widgets.Play(\n",
    "#     interval=10,\n",
    "    value=50,\n",
    "    min=0,\n",
    "    max=100,\n",
    "    step=1,\n",
    "    description=\"Press play\",\n",
    "    disabled=False\n",
    ")\n",
    "slider = widgets.IntSlider()\n",
    "widgets.jslink((play, 'value'), (slider, 'value'))\n",
    "widgets.HBox([play, slider])"
   ]
  },
  {
   "cell_type": "markdown",
   "metadata": {},
   "source": [
    "<h1 style=\"color:Orange;\">Flexbox and Layout codes:</h1>"
   ]
  },
  {
   "cell_type": "code",
   "execution_count": 19,
   "metadata": {},
   "outputs": [
    {
     "data": {
      "application/vnd.jupyter.widget-view+json": {
       "model_id": "895b967e77ce4ca899c1c30466a33b2d",
       "version_major": 2,
       "version_minor": 0
      },
      "text/plain": [
       "Box(children=(Button(button_style='danger', description='correct', layout=Layout(width='auto'), style=ButtonSt…"
      ]
     },
     "metadata": {},
     "output_type": "display_data"
    }
   ],
   "source": [
    "from ipywidgets import Layout, Button, Box\n",
    "\n",
    "items_layout = Layout( width='auto')     # override the default width of the button to 'auto' to let the button grow\n",
    "\n",
    "box_layout = Layout(display='flex',\n",
    "                    flex_flow='column',\n",
    "                    align_items='stretch',\n",
    "                    border='solid',\n",
    "                    width='50%')\n",
    "\n",
    "words = ['correct', 'horse', 'battery', 'staple']\n",
    "items = [Button(description=word, layout=items_layout, button_style='danger') for word in words]\n",
    "box = Box(children=items, layout=box_layout)\n",
    "box"
   ]
  },
  {
   "cell_type": "code",
   "execution_count": 20,
   "metadata": {},
   "outputs": [
    {
     "data": {
      "text/html": [
       "<div id='textid'>100</div>"
      ],
      "text/plain": [
       "<IPython.core.display.HTML object>"
      ]
     },
     "execution_count": 20,
     "metadata": {},
     "output_type": "execute_result"
    }
   ],
   "source": [
    "from IPython.display import HTML\n",
    "\n",
    "pystartlife = str(100)  # create variable as string\n",
    "HTML(\"<div id='textid'>\" + pystartlife + \"</div>\")  # save the variable as div "
   ]
  },
  {
   "cell_type": "code",
   "execution_count": 21,
   "metadata": {},
   "outputs": [
    {
     "data": {
      "application/javascript": [
       "\n",
       "var startlife = document.getElementById('textid').innerHTML;  // recover div\n",
       "\n",
       "function User() {\n",
       "this.name = '';\n",
       "this.life = Number(startlife);                               // transform recovered string to int\n",
       "this.giveLife = function giveLife(targetPlayer) {\n",
       "targetPlayer.life += 1;\n",
       "this.life -= 1;\n",
       " }\n",
       "}\n",
       "\n",
       "var Alfred = new User();                                     // javascript objects created\n",
       "var Wallace = new User();\n",
       "\n",
       "\n",
       "Alfred.name = 'Alfred';\n",
       "Wallace.name = 'Wallace';\n",
       "\n",
       "Alfred.giveLife(Wallace);\n",
       "alert('Alfred_life=\"' + Wallace.life + '\";');\n"
      ],
      "text/plain": [
       "<IPython.core.display.Javascript object>"
      ]
     },
     "metadata": {},
     "output_type": "display_data"
    }
   ],
   "source": [
    "%%javascript\n",
    "\n",
    "var startlife = document.getElementById('textid').innerHTML;  // recover div\n",
    "\n",
    "function User() {\n",
    "this.name = '';\n",
    "this.life = Number(startlife);                               // transform recovered string to int\n",
    "this.giveLife = function giveLife(targetPlayer) {\n",
    "targetPlayer.life += 1;\n",
    "this.life -= 1;\n",
    " }\n",
    "}\n",
    "\n",
    "var Alfred = new User();                                     // javascript objects created\n",
    "var Wallace = new User();\n",
    "\n",
    "\n",
    "Alfred.name = 'Alfred';\n",
    "Wallace.name = 'Wallace';\n",
    "\n",
    "Alfred.giveLife(Wallace);\n",
    "alert('Alfred_life=\"' + Wallace.life + '\";');"
   ]
  },
  {
   "cell_type": "markdown",
   "metadata": {},
   "source": [
    "<h1 style=\"color:Orange;\">Hover experimentation:</h1>"
   ]
  },
  {
   "cell_type": "code",
   "execution_count": 22,
   "metadata": {},
   "outputs": [
    {
     "data": {
      "application/vnd.jupyter.widget-view+json": {
       "model_id": "af3d741e28804abfb1b680631d7e06a5",
       "version_major": 2,
       "version_minor": 0
      },
      "text/plain": [
       "Button(description='Button', style=ButtonStyle(), tooltip='This is the hover')"
      ]
     },
     "metadata": {},
     "output_type": "display_data"
    }
   ],
   "source": [
    "widgets.Button(description='Button', width='10%', tooltip='This is the hover') # put mouse on the button"
   ]
  },
  {
   "cell_type": "markdown",
   "metadata": {},
   "source": [
    "<h1 style=\"color:Orange;\">Really cool Hover code using Dartmouth courses:</h1>"
   ]
  },
  {
   "cell_type": "code",
   "execution_count": 102,
   "metadata": {},
   "outputs": [
    {
     "data": {
      "application/vnd.jupyter.widget-view+json": {
       "model_id": "5cc3587a319b4ce48d1b139c0cd62daa",
       "version_major": 2,
       "version_minor": 0
      },
      "text/plain": [
       "Box(children=(Button(button_style='danger', description='BIOL11', layout=Layout(width='auto'), style=ButtonSty…"
      ]
     },
     "metadata": {},
     "output_type": "display_data"
    }
   ],
   "source": [
    "# Now this has hover on every item!\n",
    "items_layout = Layout( width='auto')     # override the default width of the button to 'auto' to let the button grow\n",
    "\n",
    "box_layout = Layout(display='flex',\n",
    "                    flex_flow='column',\n",
    "                    align_items='stretch',\n",
    "                    border='solid',\n",
    "                    width='10%')\n",
    "\n",
    "words = ['BIOL11', 'COSC10', 'WRIT2', 'MATH3']\n",
    "explanations = ['Biology 11: Emerging Infectious Diseases', 'Computer Science 10: Object Oriented Programming', \\\n",
    "                'Writing 2: Composition and Research I', 'Mathematics 3: Calculus']\n",
    "\n",
    "items = [Button(description=word, layout=items_layout, button_style='danger', tooltip=explanations[words.index(word)]) \\\n",
    "         for word in words]\n",
    "box = Box(children=items, layout=box_layout)\n",
    "box"
   ]
  },
  {
   "cell_type": "markdown",
   "metadata": {},
   "source": [
    "You should not click the [Special word]( \"This is the hover, and it can be personalized\") or you will open this extension again, but you can place the mouse on it to see the hover."
   ]
  },
  {
   "cell_type": "markdown",
   "metadata": {},
   "source": [
    "<h1 style=\"color:Orange;\">Text widgets:</h1>"
   ]
  },
  {
   "cell_type": "code",
   "execution_count": 120,
   "metadata": {},
   "outputs": [
    {
     "data": {
      "application/vnd.jupyter.widget-view+json": {
       "model_id": "8a9d6c00cd2240d887212d5531e8a818",
       "version_major": 2,
       "version_minor": 0
      },
      "text/plain": [
       "Text(value='Hello World', description='String:', placeholder='Type something')"
      ]
     },
     "metadata": {},
     "output_type": "display_data"
    }
   ],
   "source": [
    "widgets.Text(\n",
    "    value='Hello World',\n",
    "    placeholder='Type something',\n",
    "    description='String:',\n",
    "    disabled=False\n",
    ")"
   ]
  },
  {
   "cell_type": "code",
   "execution_count": 121,
   "metadata": {},
   "outputs": [
    {
     "data": {
      "application/vnd.jupyter.widget-view+json": {
       "model_id": "93829e1850734cecb71da15be64fa5a9",
       "version_major": 2,
       "version_minor": 0
      },
      "text/plain": [
       "Textarea(value='Hello World', description='String:', placeholder='Type something')"
      ]
     },
     "metadata": {},
     "output_type": "display_data"
    }
   ],
   "source": [
    "widgets.Textarea(\n",
    "    value='Hello World',\n",
    "    placeholder='Type something',\n",
    "    description='String:',\n",
    "    disabled=False\n",
    ")"
   ]
  },
  {
   "cell_type": "markdown",
   "metadata": {},
   "source": [
    "<h1 style=\"color:Orange;\">Label:</h1>"
   ]
  },
  {
   "cell_type": "code",
   "execution_count": 124,
   "metadata": {},
   "outputs": [
    {
     "data": {
      "application/vnd.jupyter.widget-view+json": {
       "model_id": "8fc20e1e967e4a93900415e780823425",
       "version_major": 2,
       "version_minor": 0
      },
      "text/plain": [
       "HBox(children=(Label(value='The quantum atom size:'), FloatSlider(value=0.0)))"
      ]
     },
     "metadata": {},
     "output_type": "display_data"
    }
   ],
   "source": [
    "widgets.HBox([widgets.Label(value=\"The quantum atom size:\"), widgets.FloatSlider()])"
   ]
  },
  {
   "cell_type": "markdown",
   "metadata": {},
   "source": [
    "<h1 style=\"color:Orange;\">HTML Widgets:</h1>"
   ]
  },
  {
   "cell_type": "code",
   "execution_count": 125,
   "metadata": {},
   "outputs": [
    {
     "data": {
      "application/vnd.jupyter.widget-view+json": {
       "model_id": "7e2bb1671d23466880868fcfde68eb6e",
       "version_major": 2,
       "version_minor": 0
      },
      "text/plain": [
       "HTML(value='Hello <b>World</b>', description='Some HTML', placeholder='Some HTML')"
      ]
     },
     "metadata": {},
     "output_type": "display_data"
    }
   ],
   "source": [
    "widgets.HTML(\n",
    "    value=\"Hello <b>World</b>\",\n",
    "    placeholder='Some HTML',\n",
    "    description='Some HTML',\n",
    ")"
   ]
  },
  {
   "cell_type": "code",
   "execution_count": 126,
   "metadata": {},
   "outputs": [
    {
     "data": {
      "application/vnd.jupyter.widget-view+json": {
       "model_id": "ec058db3e761440f8a360118121d8097",
       "version_major": 2,
       "version_minor": 0
      },
      "text/plain": [
       "HTMLMath(value='Some math and <i>HTML</i>: \\\\(x^2\\\\) and $$\\\\frac{x+1}{x-1}$$', description='Some HTML', place…"
      ]
     },
     "metadata": {},
     "output_type": "display_data"
    }
   ],
   "source": [
    "widgets.HTMLMath(\n",
    "    value=r\"Some math and <i>HTML</i>: \\(x^2\\) and $$\\frac{x+1}{x-1}$$\",\n",
    "    placeholder='Some HTML',\n",
    "    description='Some HTML',\n",
    ")"
   ]
  },
  {
   "cell_type": "markdown",
   "metadata": {},
   "source": [
    "<h1 style=\"color:Orange;\">Tabs:</h1>"
   ]
  },
  {
   "cell_type": "code",
   "execution_count": 127,
   "metadata": {},
   "outputs": [
    {
     "data": {
      "application/vnd.jupyter.widget-view+json": {
       "model_id": "72d8cf3c527c413c8bdb5220be686442",
       "version_major": 2,
       "version_minor": 0
      },
      "text/plain": [
       "Tab(children=(Text(value='', description='P0'), Text(value='', description='P1'), Text(value='', description='…"
      ]
     },
     "metadata": {},
     "output_type": "display_data"
    }
   ],
   "source": [
    "tab_contents = ['P0', 'P1', 'P2', 'P3', 'P4']\n",
    "children = [widgets.Text(description=name) for name in tab_contents]\n",
    "tab = widgets.Tab()\n",
    "tab.children = children\n",
    "for i in range(len(children)):\n",
    "    tab.set_title(i, str(i))\n",
    "tab"
   ]
  },
  {
   "cell_type": "code",
   "execution_count": null,
   "metadata": {},
   "outputs": [],
   "source": []
  }
 ],
 "metadata": {
  "kernelspec": {
   "display_name": "Python 3",
   "language": "python",
   "name": "python3"
  },
  "language_info": {
   "codemirror_mode": {
    "name": "ipython",
    "version": 3
   },
   "file_extension": ".py",
   "mimetype": "text/x-python",
   "name": "python",
   "nbconvert_exporter": "python",
   "pygments_lexer": "ipython3",
   "version": "3.8.1"
  }
 },
 "nbformat": 4,
 "nbformat_minor": 4
}
