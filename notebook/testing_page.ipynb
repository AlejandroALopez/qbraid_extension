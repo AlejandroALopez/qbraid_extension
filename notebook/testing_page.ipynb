{
 "cells": [
  {
   "cell_type": "markdown",
   "metadata": {},
   "source": [
    "<h1 style=\"color:MediumSeaGreen;\">Welcome to the testing page!</h1>"
   ]
  },
  {
   "cell_type": "markdown",
   "metadata": {},
   "source": [
    "<h1 style=\"color:MediumSeaGreen;\">Objectives</h1>\n",
    "\n",
    "- Test the properties of the extension\n",
    "- See which files can I append to it\n",
    "- Change themes of Jupyter Lab according to the issues in ZenHub\n"
   ]
  },
  {
   "cell_type": "markdown",
   "metadata": {},
   "source": [
    "<h1 style=\"color:Orange;\">Copied part of notebook:</h1>"
   ]
  },
  {
   "cell_type": "markdown",
   "metadata": {},
   "source": [
    "<h1 style=\"color:MediumSeaGreen;\">Classical physics</h1>\n",
    "\n",
    "Physics aims to understand how nature works. All of the successful physical theories that we have been developed before the 1920s, are now grouped under an umbrella called \"classical physics\". Classical physics has two main components: classical (Newtonian) mechanics and electromagnetism. At the heart of classical mechanics is the concept of a *particle*, which has some properties, e.g. it has a mass, it obeys Newton's laws, etc. On the other hand, at the heart of electromagnetism is the concept of a *wave*, which possesses certain properties like an amplitude and a frequency. Together, classical mechanics and electromagnetism explain most of the phenomena that we regularly observe. For example, the movements and collisions of billiard balls are well explained by classical mechanics; heat and temperature can be explained in terms of the motion of atoms: the faster atoms move, the higher their temperature. On the other hand, *light*, which allows us to see and without which there would be no life on earth, is nothing but an electromagnetic wave.\n",
    "\n",
    "So, what led to the development of quantum mechanics? \n",
    "\n",
    "It turns out that, towards the end of the nineteenth century, some experimental physicists produced observations which *could not* be explained by classical physics! At the dawn of the twentieth century, the number of such experiments kept increasing. It was clear that a new theory was needed to make sense of these experiments.<br/>\n",
    "\n",
    "We will not describe all of these experiments, but just one of them, which captures the main novel features of the quantum world. The experiment is commonly known as the \"double-slit experiment\". Before we dive into it, let's summarize two important concepts from classical physics:\n",
    "\n",
    "1. <font color='b64c35' size=3.5>Particle</font>\n",
    "    - A particle is a localized object which has a definite mass. Other properties include, volume, density, etc. \n",
    "    - The state of a particle is described by its position and momentum. Given position and momentum, Newton's laws describe the motion of the particle.\n",
    "2. <font color='b64c35' size=3.5>Wave</font>\n",
    "    - A wave is a non-local phenomenon, often seen as a 'disturbance' in a field. \n",
    "    - A wave is characterized by its amplitude, frequency, etc.\n",
    "    - A wave can be physically caused by the motion of particles, but it is the *collective* motion of all the particles that gives rise to a wave, not the individual motion of a particle. See for example the following picture. \n",
    "\n",
    "<img src=\"images/animation.gif\" height=\"350\" width=\"400\" />\n",
    "\n",
    "Try focusing your eyes on a single particle (it might help to choose a particle that is close a vertical line). Can you see that the particle is just moving up and down vertically, but is *not* moving *at all* horizontally? \n",
    "    \n",
    "\n"
   ]
  },
  {
   "cell_type": "code",
   "execution_count": null,
   "metadata": {},
   "outputs": [],
   "source": []
  }
 ],
 "metadata": {
  "kernelspec": {
   "display_name": "Python 3",
   "language": "python",
   "name": "python3"
  },
  "language_info": {
   "codemirror_mode": {
    "name": "ipython",
    "version": 3
   },
   "file_extension": ".py",
   "mimetype": "text/x-python",
   "name": "python",
   "nbconvert_exporter": "python",
   "pygments_lexer": "ipython3",
   "version": "3.8.1"
  }
 },
 "nbformat": 4,
 "nbformat_minor": 4
}
